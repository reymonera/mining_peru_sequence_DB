{
 "cells": [
  {
   "cell_type": "markdown",
   "metadata": {},
   "source": [
    "#  Data mining of DNA sequences submitted by Peruvian institutions to public genetic databases\n",
    "\n",
    "This Jupyter notebook will adress the code used in this study. For more information please contact:\n",
    "\n",
    "Pedro Romero, pedro.romero@upch.pe\n",
    "Camila Castillo-Vilcahuaman, camila.castillo.v@upch.pe (owner of the repository)\n"
   ]
  },
  {
   "cell_type": "markdown",
   "metadata": {},
   "source": [
    "First of all, let's see which files we have available for this analysis. \n",
    "\n",
    "**05/2020**: As of now, I'm unable to upload the `journal_and_organism` file due to its size. I will be adressing this issue in the future. Meanwhile, I'll show here which code we used for extracting data from the `Nucleotide` database."
   ]
  },
  {
   "cell_type": "markdown",
   "metadata": {},
   "source": [
    "**04/2021**: I decided to upload the `journal_and_organism` file in my Drive. Please, download it from here: https://drive.google.com/drive/folders/1jVXrafIG3gtJGZvley01aavu4Q3GFPzQ?usp=sharing"
   ]
  },
  {
   "cell_type": "code",
   "execution_count": 1,
   "metadata": {},
   "outputs": [
    {
     "name": "stdout",
     "output_type": "stream",
     "text": [
      "1.txt                   Carta de presentación.docx\r\n",
      "200804_bioproject.xml   data_orgn_type_inst\r\n",
      "archaea.txt             draft_scripts\r\n",
      "\u001b[0m\u001b[01;34mBinderBash-master\u001b[0m/      grepjournal\r\n",
      "\u001b[01;31mBinderBash-master.zip\u001b[0m   journal_and_organism\r\n",
      "bioproject_peru.xml     list\r\n",
      "BOLD_abad               list_commas\r\n",
      "bold_Amazonia           mining_peruvian_sequences.ipynb\r\n",
      "BOLD_amazonia           organizationNames\r\n",
      "BOLD_antunez            organizationNames_2\r\n",
      "bold_centro             organizationNames_3\r\n",
      "BOLD_centro             PATRIC_genome.csv\r\n",
      "bold_data_species.tsv   Pedro_bioproject20200408.xml\r\n",
      "bold_data_species.txt   Pedro_bioproject_peru.xml\r\n",
      "bold_data_species.xlsx  peptides.txt\r\n",
      "BOLD_imarpe             prueba\r\n",
      "BOLD_senasa             prueba2\r\n",
      "BOLD_ucayali            prueba_total\r\n",
      "BOLD_unalm              \u001b[01;34mtax\u001b[0m/\r\n",
      "BOLD_unalmherbario      \u001b[01;34mtaxonom\u001b[0m/\r\n",
      "BOLD_unfv               test.csv\r\n",
      "BOLD_unmsm              Universidad_Cientifica_del_Sur\r\n",
      "BOLD_unmsmmuseo         used_queries_per_inst_nucleotide.txt\r\n",
      "BOLD_upch\r\n"
     ]
    }
   ],
   "source": [
    "%%bash\n",
    "ls\n",
    "#Hi, I'm leaving the csvkit package installation code here too. I used it for the last bits of the code, so you may require it to explore all this work.\n",
    "#pip install csvkit"
   ]
  },
  {
   "cell_type": "markdown",
   "metadata": {},
   "source": [
    "## Nucleotide"
   ]
  },
  {
   "cell_type": "markdown",
   "metadata": {},
   "source": [
    "`Nucleotide` was the biggest database we had to analyze. In this case, I used a server to download all the data related to the term: \"Peru\" using Entrez Direct (available at the NCBI page):"
   ]
  },
  {
   "cell_type": "markdown",
   "metadata": {},
   "source": [
    "`esearch -db nucleotide -query \"Peru\" | efetch -format gb > peru.gb`"
   ]
  },
  {
   "cell_type": "markdown",
   "metadata": {},
   "source": [
    "Once we had the `peru.gb` file, we ran an `awk` script for fetching all the data related to journals and organisms in the `peru.gb` file."
   ]
  },
  {
   "cell_type": "markdown",
   "metadata": {},
   "source": [
    "` awk '{ if($1 ~ /JOURNAL/ || $1 ~ /ORGANISM/){ ban = 1; } if($1 ~ /REFERENCE/ || $1 ~ /COMMENT/ || $1 ~ /PUBMED/ || $1 ~ /FEATURES/ || $1 ~ /AUTHORS/|| $1 ~ /REMARK/ || $1 ~ /TITLE/){ ban = 0; } if(ban == 1){ print $0; } }' peru.gb > journal_and_organism `"
   ]
  },
  {
   "cell_type": "markdown",
   "metadata": {},
   "source": [
    "The output was named `journal_and_organism`\n",
    "For checking out how many organisms we had in our `journal_and_organism` data, we used the `grep` command."
   ]
  },
  {
   "cell_type": "markdown",
   "metadata": {},
   "source": [
    "`grep -c \"ORGANISM\" journal_and_organism`"
   ]
  },
  {
   "cell_type": "markdown",
   "metadata": {},
   "source": [
    "This gave us 817 694 records associated with the term \"Peru\" in our `journal_and_organism` file. However, we knew that this number could be an overstimation, because the term \"Peru\" is not only related to sequences uploaded from this country. Thus, we decided to perform an analysis including all institutions."
   ]
  },
  {
   "cell_type": "markdown",
   "metadata": {},
   "source": [
    "The Nucleotide format breaks paragraphs, thus making it difficult to search for institutions using their complete name. Also, uploaders have the freedom to adress their sequences as they need, which means that some institutions have variations in their names. For example, the Instituto Nacional de Salud was also found in this database using the english translation. This meant that we had to search carefully for query words. The file `used_queries_per_inst_nucleotide.txt` contains all the query words used for this analysis. "
   ]
  },
  {
   "cell_type": "code",
   "execution_count": 3,
   "metadata": {},
   "outputs": [
    {
     "name": "stdout",
     "output_type": "stream",
     "text": [
      "Se aplicaron los siguientes queries para cada institución (recordar que el código awk vuelve todo el archivo a mayúsculas):\n",
      "\n",
      "Universidad Nacional de San Agustín\n",
      "\n",
      "SAINT AUGUSTINE\t1\n",
      "SAN AGUSTIN\t51\n",
      "SAINT AGUSTIN\t3\n",
      "\n",
      "*No uso UNSA porque en algunas líneas aparece que \"Universidad\" y \"UNSA\" están en la misma línea. Parece que sería redundante.\n",
      "\n"
     ]
    }
   ],
   "source": [
    "%%bash\n",
    "head used_queries_per_inst_nucleotide.txt"
   ]
  },
  {
   "cell_type": "markdown",
   "metadata": {},
   "source": [
    "To make the analysis easier, we made a list of all query words used:"
   ]
  },
  {
   "cell_type": "code",
   "execution_count": 4,
   "metadata": {},
   "outputs": [
    {
     "name": "stdout",
     "output_type": "stream",
     "text": [
      "SAINT AUGUSTINE\n",
      "SAN AGUSTIN\n",
      "SAINT AGUSTIN\n",
      "UNAS\n",
      "NACIONAL MAYOR\n",
      "UNMSM\n",
      "AGRARIAN INNOVATION\n",
      "INNOVACION AGRARIA\n",
      "NACIONAL DE SALUD\n",
      "FARVET\n"
     ]
    }
   ],
   "source": [
    "%%bash\n",
    "head list"
   ]
  },
  {
   "cell_type": "markdown",
   "metadata": {},
   "source": [
    "For the first part, we decided to perform manually a search of each query word, to see how many times an institution appeared in the `journal_and_organism` data. For example, here we used the query word \"SAN MARCOS\":"
   ]
  },
  {
   "cell_type": "code",
   "execution_count": 9,
   "metadata": {},
   "outputs": [
    {
     "name": "stdout",
     "output_type": "stream",
     "text": [
      "Numero total de revistas con palabra clave: 4951\n"
     ]
    }
   ],
   "source": [
    "%%bash\n",
    "awk -v j=0 -v col=0 -v total_col=0 '{\n",
    "if($1 ~ /JOURNAL/){\n",
    "if(j == 1){\n",
    "if(col == 1){\n",
    "total_col = total_col + 1;\n",
    "col = 0;\n",
    "}\n",
    "} else {\n",
    "j = 1;\n",
    "}\n",
    "}\n",
    "if(toupper($0) ~ /SAN MARCOS/){\n",
    "col = 1;\n",
    "}\n",
    "}END{\n",
    "print \"Numero total de revistas con palabra clave: \" total_col;\n",
    "}' journal_and_organism"
   ]
  },
  {
   "cell_type": "markdown",
   "metadata": {},
   "source": [
    "Once we had a first scan of all the institutions and how many times their names appeared in our database, we performed a search to determine which organisms came from this institutions. For this, we used a `while` loop:"
   ]
  },
  {
   "cell_type": "code",
   "execution_count": 13,
   "metadata": {},
   "outputs": [],
   "source": [
    "%%bash\n",
    "while read p; do awk -v orgn=\"\" -v p=\"$p\" '{ if ($1 ~ /ORGANISM/) { ban = 1; orgn = $2 \" \" $3 } if (toupper($0) ~ p) { if (ban == 1) { print orgn; ban = 0 } } }' journal_and_organism > j_and_orgn_\"$p\"; done < list\n",
    "cat j_and_orgn_* > j_and_orgn_total"
   ]
  },
  {
   "cell_type": "markdown",
   "metadata": {},
   "source": [
    "After this, we concatenated all the output data using the `cat` command. The output file was called `total` (I prefer having all these files in a directory, so I created one and then moved all the files generated by the previous script). After this, we used a `sort` and a `uniq` command to count all unique species in our data."
   ]
  },
  {
   "cell_type": "code",
   "execution_count": 24,
   "metadata": {},
   "outputs": [
    {
     "name": "stdout",
     "output_type": "stream",
     "text": [
      "      3 Acarichthys heckelii\n",
      "      1 Acarospora cf.\n",
      "      3 Acestrorhynchus falcatus\n",
      "      6 Acestrorhynchus falcirostris\n",
      "      3 Acestrorhynchus nasutus\n",
      "      2 Achromobacter denitrificans\n",
      "      4 Achromobacter sp.\n",
      "      2 Achromobacter xylosoxidans\n",
      "      1 Acidiphilium acidophilum\n",
      "    212 Acidithiobacillus ferrivorans\n"
     ]
    }
   ],
   "source": [
    "%%bash\n",
    "sort j_and_orgn_total | uniq -c > j_and_orgn_cont_total\n",
    "head j_and_orgn_cont_total"
   ]
  },
  {
   "cell_type": "markdown",
   "metadata": {},
   "source": [
    "For checking out information about taxa, we used this command:"
   ]
  },
  {
   "cell_type": "code",
   "execution_count": 22,
   "metadata": {},
   "outputs": [
    {
     "name": "stdout",
     "output_type": "stream",
     "text": [
      "            Bacteria; Proteobacteria; Alphaproteobacteria; Rhizobiales;\n",
      "            Rhizobiaceae; Rhizobium/Agrobacterium group; Rhizobium.\n",
      "  JOURNAL   Unpublished\n",
      "            Bacteria; Proteobacteria; Alphaproteobacteria; Rhizobiales;\n",
      "            Rhizobiaceae; Rhizobium/Agrobacterium group; Rhizobium.\n",
      "  JOURNAL   Unpublished\n",
      "            Bacteria; Proteobacteria; Alphaproteobacteria; Rhizobiales;\n",
      "            Rhizobiaceae; Rhizobium/Agrobacterium group; Rhizobium.\n",
      "  JOURNAL   Unpublished\n",
      "            Bacteria; Proteobacteria; Alphaproteobacteria; Rhizobiales;\n"
     ]
    }
   ],
   "source": [
    "%%bash\n",
    "while read p; do awk -v orgn=\"\" -v p=\"$p\" -v orgn2=\"\" -v orgn3=\"\" '{ if ($1 ~ /ORGANISM/) { ban = 1; getline orgn; getline orgn2; getline orgn3 } if (toupper($0) ~ p) { if (ban == 1) { print orgn; print orgn2; print orgn3; ban = 0 } } }' journal_and_organism > j_and_orgn_\"$p\"; done < list\n",
    "cat j_and_orgn_* > total\n",
    "head total"
   ]
  },
  {
   "cell_type": "markdown",
   "metadata": {},
   "source": [
    "This allowed us to check out which domains and classes were the most represented in peruvian sequences. We also used the `cat` command to create a file containing all the information from all the generated files. For checking out which taxa were present in this `total` file, we used the `grep -c` command."
   ]
  },
  {
   "cell_type": "code",
   "execution_count": 23,
   "metadata": {},
   "outputs": [
    {
     "name": "stdout",
     "output_type": "stream",
     "text": [
      "1782\n"
     ]
    }
   ],
   "source": [
    "%%bash\n",
    "grep -c \"Pasteurella multocida\" total"
   ]
  },
  {
   "cell_type": "markdown",
   "metadata": {},
   "source": [
    "I suggest to search the species and taxonomic groups reported in our paper using this `grep` command. We did some manual curation to the data obtained in our files, so these should be checked out if used. Some grep combinations allow you to create lists and then to paste them somewhere else where its easier to manipulate tables."
   ]
  },
  {
   "cell_type": "markdown",
   "metadata": {},
   "source": [
    "If you have run this code, you will notice that certain numbers are lost during the process. We assume this is because of how heterogenous the metadata is. Institution names could be repeated twice or could be badly written, and, when in search for organism data, we detected some organisms which had no complete taxonomic classification. "
   ]
  },
  {
   "cell_type": "markdown",
   "metadata": {},
   "source": [
    "## Bioproject"
   ]
  },
  {
   "cell_type": "markdown",
   "metadata": {},
   "source": [
    "For the BioProject data, we used the following command to extract the info required for this survey: \n",
    "`esearch -db bioproject -query \"peru\" | efetch -mode xml`"
   ]
  },
  {
   "cell_type": "markdown",
   "metadata": {},
   "source": [
    "There wasn't much data to explore here. We used the following commands to navigate through our Bioproject data."
   ]
  },
  {
   "cell_type": "code",
   "execution_count": null,
   "metadata": {},
   "outputs": [],
   "source": [
    "%%bash\n",
    "#Extract organizationNames:\n",
    "\n",
    "awk -v ban=0 '{\n",
    "if($0 ~ /<Organization/) {\n",
    "ban = 1;\n",
    "}\n",
    "if(ban == 1){\n",
    "print $0;\n",
    "}\n",
    "if($0 ~ /<\\/Organization>/) {\n",
    "ban = 0;\n",
    "}\n",
    "}' Pedro_bioproject20200408.xml > organizationNames_2\n",
    "\n",
    "##Extract genome status:\n",
    "\n",
    "awk -v ban=0 '{\n",
    "if($0 ~ /<ProjectTypeSubmission>/ || $0 ~ /<Organization/){\n",
    "ban = 1;\n",
    "}\n",
    "if(ban == 1){\n",
    "print $0;\n",
    "}\n",
    "if($0 ~ /<\\/Organization>/ || $0 ~ /<\\/Organism>/){\n",
    "ban = 0;\n",
    "}\n",
    "}' bioproject_peru.xml > data_orgn_type_inst\n",
    "\n",
    "awk -v targ=\"\" '{\n",
    "if ($0 ~ /<Target/) {\n",
    "targ = $0;\n",
    "}\n",
    "if ($0 ~ /<OrganismName/) {\n",
    "targ = targ\";\"$0\n",
    "}\n",
    "if ($0 ~ /<Supergroup/) {\n",
    "targ = targ\";\"$0\n",
    "}\n",
    "if ($0 ~ /<Organization/) {\n",
    "org = 1\n",
    "}\n",
    "if($0 ~ /<Name/) {\n",
    "if (org == 1) {\n",
    "if ($0 ~ /Universidad Cientifica del Sur/) {\n",
    "print targ;\n",
    "targ = \"\";\n",
    "}\n",
    "}\n",
    "}\n",
    "if ($0 ~ /<\\/Organization>/) {\n",
    "org = 0;\n",
    "}\n",
    "}' data_orgn_type_inst > Universidad_Cientifica_del_Sur\n",
    "\n",
    "##Extract names and count them:\n",
    "\n",
    "grep -o 'Universidad Cientifica del Sur' organizationNames | wc -l\n",
    "grep -o 'FARVET S.A.C.' organizationNames | wc -l\n",
    "grep -o 'INCABIOTEC SAC' organizationNames | wc -l\n",
    "grep -o 'Instituto Nacional de Salud - Peru' organizationNames | wc -l\n",
    "grep -o 'International Potato Center' organizationNames | wc -l\n",
    "grep -o 'Universidad Nacional Agraria La Molina, Peru' organizationNames | wc -l\n",
    "grep -o 'Universidad Cientifica del Peru' organizationNames | wc -l\n",
    "grep -o 'Universidad Nacional de San Antonio Abad' organizationNames | wc -l\n",
    "grep -o 'Universidad Peruana Cayetano Heredia' organizationNames | wc -l\n",
    "\n",
    "grep -o 'Universidad Peruana Cayetano Heredia' bioproject_peru.xml | wc -l\n",
    "grep -o 'Peruvian National Institute of Health' organizationNames_2"
   ]
  },
  {
   "cell_type": "markdown",
   "metadata": {},
   "source": [
    "## PATRIC"
   ]
  },
  {
   "cell_type": "markdown",
   "metadata": {},
   "source": [
    "The PATRIC database showed to be more homogenous. PATRIC data can be downloaded in a `.csv` format, which makes it easier to analyze. PATRIC data can be found in this repository."
   ]
  },
  {
   "cell_type": "code",
   "execution_count": 5,
   "metadata": {},
   "outputs": [
    {
     "name": "stdout",
     "output_type": "stream",
     "text": [
      "Genome ID,Genome Name,Organism Name,NCBI Taxon ID,Genome Status,Strain,Serovar,Biovar,Pathovar,MLST,Other Typing,Culture Collection,Type Strain,Completion Date,Publication,BioProject Accession,BioSample Accession,Assembly Accession,SRA Accession,GenBank Accessions,RefSeq Accessions,Sequencing Centers,Sequencing Status,Sequencing Platform,Sequencing Depth,Assembly Method,Chromosomes,Plasmids,Contigs,Genome Length,GC Content,PATRIC CDS,RefSeq CDS,Isolation Site,Isolation Source,Isolation Comments,Collection Date,Isolation Country,Geographic Location,Latitude,Longitude,Altitude,Depth,Other Environmental,Host Name,Host Gender,Host Age,Host Health,Body Sample Site,Body Sample Subsite,Other Clinical,AntiMicrobial Resistance,AntiMicrobial Resistance Evidence,Gram Stain,Cell Shape,Motility,Sporulation,Temperature Range,Optimal Temperature,Salinity,Oxygen Requirement,Habitat,Disease,Comments,Additional Metadata,Coarse Consistency,Fine Consistency,Checkm Completeness,Checkm Contamination,Genome Quality Flags,Genome Quality,Date Inserted,Date Modified\n",
      "\"1049819.3\",\"Leptospira interrogans serovar Copenhageni str. HAI0188\",\"Leptospira interrogans serovar Copenhageni str. HAI0188\",1049819,\"WGS\",\"HAI0188\",\"serovar Copenhageni\",,,\"MLST.Leptospira_spp.17,MLST.Leptospira_spp_2.47,MLST.Leptospira_spp_3.2\",,\" \",,\"2012-01-24T00:00:00Z\",,\"PRJNA74149\",\"SAMN02436381\",\"GCA_000244595.3\",,\"AHOG00000000\",\"-\",\"J. Craig Venter Institute\",\"WGS\",\"454\",,,,,151,4590835,35.1,5619,,,,,,\"Peru\",\"Peru: Hospital Apoyo, Iquitos\",,,,,,\"Human, Homo sapiens\",,,,,,,,,,,,,,,,,,,\"-\",,98.8,91.1,100,22,,\"Good\",\"2014-12-08T22:11:57.520Z\",\"2015-03-16T03:17:09.594Z\"\n",
      "\"1049934.3\",\"Leptospira interrogans str. MMD3731\",\"Leptospira interrogans str. MMD3731\",1049934,\"WGS\",\"MMD3731\",,,,\"MLST.Leptospira_spp.17,MLST.Leptospira_spp_2.47,MLST.Leptospira_spp_3.2\",,\" \",,\"2012-01-24T00:00:00Z\",,\"PRJNA74161\",\"SAMN02436498\",\"GCA_000244695.3\",,\"AHOL00000000\",\"-\",\"J. Craig Venter Institute\",\"WGS\",\"454\",,,,,610,4402555,35.1,5463,,,,,,\"Peru\",\"Peru: Iquitos\",,,,,,\"Rat, Rattus norvegicus\",,,,,,,,,,,,,,,,,,,\"-\",,97.8,87.8,95.9,24,,\"Good\",\"2014-12-08T22:11:58.444Z\",\"2015-03-16T03:17:09.594Z\"\n",
      "\"1049971.3\",\"Leptospira licerasiae str. MMD4847\",\"Leptospira licerasiae str. MMD4847\",1049971,\"WGS\",,,,,,,\" \",,\"2012-01-24T00:00:00Z\",,\"PRJNA74163\",\"SAMN02436419\",\"GCA_000244715.3\",,\"AHOM00000000\",\"-\",\"J. Craig Venter Institute\",\"WGS\",\"454\",,,,,49,4216807,41.1,4251,,,,,,\"Peru\",\"Peru: Iquitos\",,,,,,\"Bat, Chiroptera\",,,,,,,,,,,,,,,,,,,\"-\",,97.8,95.7,100,4.8,,\"Good\",\"2014-12-08T22:11:58.942Z\",\"2015-03-16T03:17:09.594Z\"\n",
      "\"1049972.3\",\"Leptospira licerasiae serovar Varillal str. VAR 010\",\"Leptospira licerasiae serovar Varillal str. VAR 010\",1049972,\"WGS\",,\"serovar Varillal\",,,,,\" \",,\"2012-01-24T00:00:00Z\",\"23145189\",\"PRJNA74167\",\"SAMN02436421\",\"GCA_000244755.3\",,\"AHOO00000000\",\"-\",\"J. Craig Venter Institute\",\"WGS\",,,,,,14,4211147,41.1,3999,3931,,,,,\"Peru\",\"Peru: Varillal village, Iquitos\",,,,,,\"Human, Homo sapiens\",,,,,,,,,,,,,,,,,,,\"-\",,97.5,97,100,,,\"Good\",\"2014-12-08T22:11:58.933Z\",\"2015-03-16T03:17:09.594Z\"\n",
      "\"1049978.3\",\"Leptospira santarosai str. CBC379\",\"Leptospira santarosai str. CBC379\",1049978,\"WGS\",\"CBC379\",,,,\"MLST.Leptospira_spp_2.164\",,\" \",,\"2012-01-24T00:00:00Z\",,\"PRJNA74145\",\"SAMN02436503\",\"GCA_000244555.3\",,\"AHOE00000000\",\"-\",\"J. Craig Venter Institute\",\"WGS\",\"454\",,,,,168,4056378,41.9,4912,,,,,,\"Peru\",\"Peru: Iquitos\",,,,,,\"Pig, Sus scrofa\",,,,,,,,,,,,,,,,,,,\"-\",,99,93.5,99,10.8,,\"Good\",\"2014-12-08T22:11:59.189Z\",\"2015-03-16T03:17:09.594Z\"\n",
      "\"1049979.3\",\"Leptospira santarosai str. CBC523\",\"Leptospira santarosai str. CBC523\",1049979,\"WGS\",\"CBC523\",,,,\"MLST.Leptospira_spp_2.165\",,\" \",,\"2012-01-24T00:00:00Z\",,\"PRJNA74147\",\"SAMN02436504\",\"GCA_000244575.3\",,\"AHOF00000000\",\"-\",\"J. Craig Venter Institute\",\"WGS\",\"454\",,,,,52,4042257,41.9,4837,,,,,,\"Peru\",\"Peru: Iquitos\",,,,,,\"Aurochs, Bos primigenius\",,,,,,,,,,,,,,,,,,,\"-\",,99.5,94.7,100,6.6,,\"Good\",\"2014-12-08T22:11:59.198Z\",\"2015-03-16T03:17:09.594Z\"\n",
      "\"1049980.3\",\"Leptospira santarosai str. HAI134\",\"Leptospira santarosai str. HAI134\",1049980,\"WGS\",\"HAI134\",,,,,,\" \",,\"2012-01-24T00:00:00Z\",,\"PRJNA74151\",\"SAMN02436418\",\"GCA_000244615.3\",,\"AHOH00000000\",\"-\",\"J. Craig Venter Institute\",\"WGS\",\"454\",,,,,97,4070132,41.8,4676,,,,,,\"Peru\",\"Peru: Hospital Apoyo, Iquitos\",,,,,,\"Human, Homo sapiens\",,,,,,,,,,,,,,,,,,,\"-\",,99.4,94.9,100,3.9,,\"Good\",\"2014-12-08T22:11:59.216Z\",\"2015-03-16T03:17:09.594Z\"\n",
      "\"1049981.3\",\"Leptospira santarosai str. HAI1349\",\"Leptospira santarosai str. HAI1349\",1049981,\"WGS\",\"HAI1349\",,,,\"MLST.Leptospira_spp_2.168\",,\" \",,\"2013-03-15T00:00:00Z\",,\"PRJNA74153\",\"SAMN01047922\",\"GCA_000346915.1\",\"SRR507775\",\"ANNW00000000\",\"-\",\"J. Craig Venter Institute\",\"WGS\",\"Illumina GAIIx\",\"67.5x\",\"Celera Assembler v. 7.0\",,,114,3851754,41.74,4155,3804,,,,,\"Peru\",\"Peru: Hospital Apoyo, Iquitos\",,,,,,\"Human, Homo sapiens\",,,,,,,,,,,,,,,,,,,\"-\",,99.3,98.9,100,1,,\"Good\",\"2014-12-08T22:11:59.225Z\",\"2015-03-16T03:17:09.594Z\"\n",
      "\"1049982.3\",\"Leptospira santarosai str. HAI1380\",\"Leptospira santarosai str. HAI1380\",1049982,\"WGS\",\"HAI1380\",,,,\"MLST.Leptospira_spp_2.169\",,\" \",,\"2012-01-24T00:00:00Z\",,\"PRJNA74157\",\"SAMN02436497\",\"GCA_000244655.3\",,\"AHOJ00000000\",\"-\",\"J. Craig Venter Institute\",\"WGS\",\"454\",,,,,81,4024262,41.8,5067,,,,,,\"Peru\",\"Peru: Hospital Apoyo, Iquitos\",,,,,,\"Human, Homo sapiens\",,,,,,,,,,,,,,,,,,,\"-\",,99.4,92.8,100,10.7,,\"Good\",\"2014-12-08T22:11:59.234Z\",\"2015-03-16T03:17:09.594Z\"\n"
     ]
    }
   ],
   "source": [
    "%%bash\n",
    "head PATRIC_genome.csv"
   ]
  },
  {
   "cell_type": "markdown",
   "metadata": {},
   "source": [
    "To count how many institutions have uploaded information to the PATRIC database, we used the `grep` command."
   ]
  },
  {
   "cell_type": "code",
   "execution_count": 6,
   "metadata": {},
   "outputs": [
    {
     "name": "stdout",
     "output_type": "stream",
     "text": [
      "10\n"
     ]
    }
   ],
   "source": [
    "%%bash\n",
    "grep -c \"Universidad Nacional Mayor de San Marcos\" PATRIC_genome.csv"
   ]
  },
  {
   "cell_type": "markdown",
   "metadata": {},
   "source": [
    "To extract all organisms uploaded in the PATRIC database, we used an `awk` command:"
   ]
  },
  {
   "cell_type": "code",
   "execution_count": 7,
   "metadata": {},
   "outputs": [
    {
     "name": "stdout",
     "output_type": "stream",
     "text": [
      "      3 \"Acidithiobacillus ferrivorans\n",
      "      4 \"Acinetobacter baumannii\n",
      "      1 \"Aeromonas sobria\n",
      "      1 \"Aeromonas veronii\n",
      "      1 \"Arcobacter sp.\n",
      "      2 \"Arthrospira sp.\n",
      "      1 \"Avibacterium paragallinarum\n",
      "      1 \"Bacillus thuringiensis\n",
      "     14 \"Bartonella bacilliformis\n",
      "      1 \"Bradyrhizobium icense\n",
      "      1 \"Bradyrhizobium paxllaeri\n",
      "      1 \"Bradyrhizobium sp.\n",
      "      1 \"Burkholderia pseudomallei\n",
      "      1 \"Candidatus Bartonella\n",
      "      2 \"Candidatus Marinimicrobia\n",
      "      2 \"Candidatus Poribacteria\n",
      "      1 \"Candidatus Thioglobus\n",
      "      4 \"Candidatus Tokpelaia\n",
      "      2 \"Candidatus Woesearchaeota\n",
      "      2 \"Dehalococcoidia bacterium\n",
      "      2 \"Enterobacter hormaechei\n",
      "      1 \"Enterobacter soli\n",
      "      1 \"Enterococcus faecium\n",
      "     11 \"Escherichia coli\n",
      "      1 \"Flavobacterium sp.\n",
      "      1 \"Fulvimarina sp.\n",
      "     10 \"Gammaproteobacteria bacterium\n",
      "      1 \"Gemmatimonadetes bacterium\n",
      "      1 Genome Name\n",
      "      1 \"Gimesia sp.\n",
      "      1 \"Gordonia sp.\n",
      "      1 \"Gramella sp.\n",
      "      2 \"Haliea sp.\n",
      "      1 \"Halobacteriovorax sp.\n",
      "      1 \"Halomonas elongata\n",
      "      1 \"Halomonas sp.\n",
      "     13 \"Helicobacter pylori\n",
      "      2 \"Hyphomonadaceae bacterium\n",
      "      2 \"Hyphomonas sp.\n",
      "      1 \"Idiomarina sp.\n",
      "      1 \"Klebsiella michiganensis\n",
      "      1 \"Klebsiella pneumoniae\n",
      "      1 \"Lactobacillus fermentum\n",
      "      2 \"Lactobacillus sakei\n",
      "      7 \"Leptospira interrogans\n",
      "      1 \"Leptospira kirschneri\n",
      "      3 \"Leptospira licerasiae\n",
      "      2 \"Leptospira noguchii\n",
      "     12 \"Leptospira santarosai\n",
      "      1 \"Leptospirillum ferriphilum\n",
      "      3 \"Leuconostoc mesenteroides\n",
      "      1 \"Listeria monocytogenes\n",
      "      1 \"Magnetovibrio sp.\n",
      "      2 \"Marinobacter sp.\n",
      "      2 \"Marinomonas sp.\n",
      "      1 \"Methylomonas sp.\n",
      "      1 \"Micavibrio sp.\n",
      "      1 \"Muricauda sp.\n",
      "   2500 \"Mycobacterium tuberculosis\n",
      "      1 \"Myxococcales bacterium\n",
      "      6 \"Neisseria meningitidis\n",
      "      1 \"Nitrospinae bacterium\n",
      "      1 \"Nocardioides sp.\n",
      "      1 \"Oceanibulbus sp.\n",
      "      1 \"Oceanicaulis sp.\n",
      "      1 \"Oceanospirillaceae bacterium\n",
      "      1 \"Ornithobacterium rhinotracheale\n",
      "      2 \"Pantoea stewartii\n",
      "      1 \"Parcubacteria group\n",
      "      2 \"Pasteurella multocida\n",
      "      1 \"Pectobacterium carotovorum\n",
      "      1 \"Pectobacterium peruviense\n",
      "      3 \"Pelagibacteraceae bacterium\n",
      "      1 \"Peredibacter sp.\n",
      "      1 \"Phenylobacterium sp.\n",
      "      1 \"Phycisphaeraceae bacterium\n",
      "      3 \"Planctomyces sp.\n",
      "      2 \"Planctomycetaceae bacterium\n",
      "      2 \"Planctomycetes bacterium\n",
      "      1 \"Porticoccaceae bacterium\n",
      "      1 \"Prochlorococcus sp.\n",
      "      1 \"Proteobacteria bacterium\n",
      "      2 \"Pseudoalteromonadaceae bacterium\n",
      "      2 \"Pseudoalteromonas sp.\n",
      "      1 \"Pseudohongiella sp.\n",
      "      2 \"Pseudomonadaceae bacterium\n",
      "      1 \"Pseudomonadales bacterium\n",
      "      2 \"Pseudomonas aeruginosa\n",
      "      1 \"Pseudonocardia sp.\n",
      "      2 \"Puniceicoccaceae bacterium\n",
      "      5 \"Ralstonia solanacearum\n",
      "      2 \"Rhizobiales bacterium\n",
      "      1 \"Rhizobium sp.\n",
      "      6 \"Rhodobacteraceae bacterium\n",
      "      1 \"Roseibacillus sp.\n",
      "      1 \"Rubrivirga sp.\n",
      "     13 \"Salmonella enterica\n",
      "      1 \"Sandaracinus sp.\n",
      "      2 \"Saprospirales bacterium\n",
      "      2 \"Shewanella sp.\n",
      "      2 \"Shigella dysenteriae\n",
      "      1 \"Shigella flexneri\n",
      "     52 \"Shigella sonnei\n",
      "      1 \"Sphingobium sp.\n",
      "      1 \"Sphingomonadaceae bacterium\n",
      "      1 \"Sphingomonas sp.\n",
      "      1 \"Spongiibacter sp.\n",
      "     34 \"Staphylococcus aureus\n",
      "      2 \"Stappia sp.\n",
      "      1 \"Streptococcus parauberis\n",
      "     13 \"Streptococcus pneumoniae\n",
      "     13 \"Streptomyces sp.\n",
      "      1 \"Synechococcus sp.\n",
      "      1 \"Thermosediminibacter litoriperuensis\n",
      "      2 \"Thiotrichales bacterium\n",
      "      3 \"Verrucomicrobiaceae bacterium\n",
      "      1 \"Verrucomicrobiales bacterium\n",
      "     11 \"Vibrio cholerae\n",
      "      1 \"Vibrio jasicida\n",
      "      1 \"Vibrio mediterranei\n",
      "     27 \"Vibrio parahaemolyticus\n",
      "      2 \"Wolbachia endosymbiont\n",
      "     60 \"Yersinia pestis\n",
      "      1 \"Yersinia ruckeri\n"
     ]
    }
   ],
   "source": [
    "%%bash\n",
    "cat PATRIC_genome.csv | cut -f2 -d , | awk '{print $1,$2}' | sort | uniq -c"
   ]
  },
  {
   "cell_type": "markdown",
   "metadata": {},
   "source": [
    "To extract all organisms per institution, I had to download the `csvgrep` package.\n",
    "\n",
    "**05/2020**: I'm unsure if I can download that package to this enviroment. I'll try this in the future."
   ]
  },
  {
   "cell_type": "code",
   "execution_count": 8,
   "metadata": {},
   "outputs": [
    {
     "name": "stdout",
     "output_type": "stream",
     "text": [
      "      1 Bartonella bacilliformis\n",
      "      1 Genome Name\n",
      "      3 Mycobacterium tuberculosis\n",
      "      6 Neisseria meningitidis\n",
      "      1 Salmonella enterica\n",
      "      2 Vibrio parahaemolyticus\n",
      "      1 Yersinia pestis\n"
     ]
    }
   ],
   "source": [
    "%%bash\n",
    "csvgrep -c 22 -m \"Instituto Nacional de Salud\" PATRIC_genome.csv | cut -f2 -d , | awk '{print $1,$2}' | sort | uniq -c"
   ]
  },
  {
   "cell_type": "markdown",
   "metadata": {},
   "source": [
    "**04/2021**: I have uploaded most of the code used in this study. I hope this has been helpful for anyone who wants to check out this work.  "
   ]
  },
  {
   "cell_type": "code",
   "execution_count": null,
   "metadata": {},
   "outputs": [],
   "source": []
  }
 ],
 "metadata": {
  "kernelspec": {
   "display_name": "Python 3",
   "language": "python",
   "name": "python3"
  },
  "language_info": {
   "codemirror_mode": {
    "name": "ipython",
    "version": 3
   },
   "file_extension": ".py",
   "mimetype": "text/x-python",
   "name": "python",
   "nbconvert_exporter": "python",
   "pygments_lexer": "ipython3",
   "version": "3.7.6"
  }
 },
 "nbformat": 4,
 "nbformat_minor": 4
}
