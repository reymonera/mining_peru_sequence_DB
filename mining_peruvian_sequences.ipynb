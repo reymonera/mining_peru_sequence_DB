{
 "cells": [
  {
   "cell_type": "markdown",
   "metadata": {},
   "source": [
    "#  Data mining of DNA sequences submitted by Peruvian institutions to public genetic databases\n",
    "\n",
    "This Jupyter notebook will adress the code used in this study. For more information please contact:\n",
    "\n",
    "Pedro Romero, pedro.romero@upch.pe\n",
    "Camila Castillo-Vilcahuaman, camila.castillo.v@upch.pe\n"
   ]
  },
  {
   "cell_type": "markdown",
   "metadata": {},
   "source": [
    "First of all, let's see which files we have available for this analysis. \n",
    "\n",
    "**05/2020**: As of now, I'm unable to upload the `journal_and_organism` file due to its size. I will be adressing this issue in the future. Meanwhile, I'll show here which code we used for extracting data from the `Nucleotide` database."
   ]
  },
  {
   "cell_type": "code",
   "execution_count": 2,
   "metadata": {},
   "outputs": [
    {
     "name": "stdout",
     "output_type": "stream",
     "text": [
      "1.txt                            organizationNames\r\n",
      "200804_bioproject.xml            organizationNames_2\r\n",
      "archaea.txt                      organizationNames_3\r\n",
      "\u001b[0m\u001b[01;34mBinderBash-master\u001b[0m/               PATRIC_genome.csv\r\n",
      "\u001b[01;31mBinderBash-master.zip\u001b[0m            Pedro_bioproject20200408.xml\r\n",
      "bioproject_peru.xml              Pedro_bioproject_peru.xml\r\n",
      "bold_data_species.txt            peptides.txt\r\n",
      "bold_data.txt                    prueba\r\n",
      "data_orgn_type_inst              prueba2\r\n",
      "draft_scripts                    \u001b[01;34mtax\u001b[0m/\r\n",
      "grepjournal                      \u001b[01;34mtaxonom\u001b[0m/\r\n",
      "journal_and_organism             test.csv\r\n",
      "list                             Universidad_Cientifica_del_Sur\r\n",
      "list_commas                      used_queries_per_inst_nucleotide.txt\r\n",
      "mining_peruvian_sequences.ipynb\r\n"
     ]
    }
   ],
   "source": [
    "ls"
   ]
  },
  {
   "cell_type": "markdown",
   "metadata": {},
   "source": [
    "## Nucleotide"
   ]
  },
  {
   "cell_type": "markdown",
   "metadata": {},
   "source": [
    "`Nucleotide` was the biggest database we had to analyze. In this case, I used a server to download all the data related to the term: \"Peru\" using Entrez Direct (available at the NCBI page):"
   ]
  },
  {
   "cell_type": "markdown",
   "metadata": {},
   "source": [
    "`esearch -db nucleotide -query \"Peru\" | efetch -format gb > peru.gb`"
   ]
  },
  {
   "cell_type": "markdown",
   "metadata": {},
   "source": [
    "Once we had the `peru.gb` file, we ran an `awk` script for fetching all the data related to journals and organisms in the `peru.gb` file."
   ]
  },
  {
   "cell_type": "markdown",
   "metadata": {},
   "source": [
    "` awk '{ if($1 ~ /JOURNAL/ || $1 ~ /ORGANISM/){ ban = 1; } if($1 ~ /REFERENCE/ || $1 ~ /COMMENT/ || $1 ~ /PUBMED/ || $1 ~ /FEATURES/ || $1 ~ /AUTHORS/|| $1 ~ /REMARK/ || $1 ~ /TITLE/){ ban = 0; } if(ban == 1){ print $0; } }' peru.gb > journal_and_organism `"
   ]
  },
  {
   "cell_type": "markdown",
   "metadata": {},
   "source": [
    "For checking out how many organisms we had in our `journal_and_organism` data, we used the `grep` command."
   ]
  },
  {
   "cell_type": "markdown",
   "metadata": {},
   "source": [
    "`grep -c \"ORGANISM\" journal_and_organism`"
   ]
  },
  {
   "cell_type": "markdown",
   "metadata": {},
   "source": [
    "This gave us 817 694 records associated with the term \"Peru\" in our `journal_and_organism` file. However, we knew that this number could be an overstimation, because the term \"Peru\" is not only related to sequences uploaded from this country. Thus, we decided to perform an analysis including all institutions."
   ]
  },
  {
   "cell_type": "markdown",
   "metadata": {},
   "source": [
    "The Nucleotide format breaks paragraphs, thus making it difficult to search for institutions using their complete name. Also, uploaders have the freedom to adress their sequences as they need, which means that some institutions have variations in their names. For example, the Instituto Nacional de Salud was also found in this database using the english translation. This meant that we had to search carefully for query words. The file `used_queries_per_inst_nucleotide.txt` contains all the query words used for this analysis. "
   ]
  },
  {
   "cell_type": "code",
   "execution_count": null,
   "metadata": {},
   "outputs": [],
   "source": [
    "head used_queries_per_inst_nucleotide.txt"
   ]
  },
  {
   "cell_type": "markdown",
   "metadata": {},
   "source": [
    "To make the analysis easier, we made a list of all query words used:"
   ]
  },
  {
   "cell_type": "code",
   "execution_count": null,
   "metadata": {},
   "outputs": [],
   "source": [
    "head list"
   ]
  },
  {
   "cell_type": "markdown",
   "metadata": {},
   "source": [
    "For the first part, we decided to perform manually a search of each query word, to see how many times an institution appeared in the `journal_and_organism` data. For example, here we used the query word \"SAN MARCOS\":"
   ]
  },
  {
   "cell_type": "markdown",
   "metadata": {},
   "source": [
    "`awk -v j=0 -v col=0 -v total_col=0 '{\n",
    "if($1 ~ /JOURNAL/){\n",
    "if(j == 1){\n",
    "if(col == 1){\n",
    "total_col = total_col + 1;\n",
    "col = 0;\n",
    "}\n",
    "} else {\n",
    "j = 1;\n",
    "}\n",
    "}\n",
    "if(toupper($0) ~ /SAN MARCOS/){\n",
    "col = 1;\n",
    "}\n",
    "}END{\n",
    "print \"Numero total de revistas con palabra clave: \" total_col;\n",
    "}' journal_and_organism`"
   ]
  },
  {
   "cell_type": "markdown",
   "metadata": {},
   "source": [
    "Once we had a first scan of all the institutions and how many times their names appeared in our database, we performed a search to determine which organisms came from this institutions. For this, we used a `while` loop:"
   ]
  },
  {
   "cell_type": "markdown",
   "metadata": {},
   "source": [
    "`while read p; do awk -v orgn=\"\" -v p=\"$p\" '{ if ($1 ~ /ORGANISM/) { ban = 1; orgn = $2 \" \" $3 } if (toupper($0) ~ p) { if (ban == 1) { print orgn; ban = 0 } } }' journal_and_organism > j_and_orgn_\"$p\"; done < list`"
   ]
  },
  {
   "cell_type": "markdown",
   "metadata": {},
   "source": [
    "After this, we concatenated all the output data using the `cat` command. The output file was called `total` (I prefer having all these files in a directory, so I created one and then moved all the files generated by the previous script). After this, we used a `sort` and a `uniq` command to count all unique species in our data."
   ]
  },
  {
   "cell_type": "markdown",
   "metadata": {},
   "source": [
    "`sort j_and_orgn_total | uniq -c > j_and_orgn_cont_total`"
   ]
  },
  {
   "cell_type": "markdown",
   "metadata": {},
   "source": [
    "For checking out information about taxa, we used this command:"
   ]
  },
  {
   "cell_type": "markdown",
   "metadata": {},
   "source": [
    "`while read p; do awk -v orgn=\"\" -v p=\"$p\" -v orgn2=\"\" -v orgn3=\"\" '{ if ($1 ~ /ORGANISM/) { ban = 1; getline orgn; getline orgn2; getline orgn3 } if (toupper($0) ~ p) { if (ban == 1) { print orgn; print orgn2; print orgn3; ban = 0 } } }' journal_and_organism > j_and_orgn_\"$p\"; done < list`"
   ]
  },
  {
   "cell_type": "markdown",
   "metadata": {},
   "source": [
    "This allowed us to check out which domains and classes were the most represented in peruvian sequences. We also used the `cat` command to create a file containing all the information from all the generated files. For checking out which taxa were present in this `total` file, we used the `grep -c` command."
   ]
  },
  {
   "cell_type": "markdown",
   "metadata": {},
   "source": [
    "`grep -c \"Viruses\" total`"
   ]
  },
  {
   "cell_type": "markdown",
   "metadata": {},
   "source": [
    "If you have run this code, you will notice that certain numbers are lost during the process. We assume this is because of how heterogenous the metadata is. Institution names could be repeated twice or could be badly written, and, when in search for organism data, we detected some organisms which had no complete taxonomic classification. "
   ]
  },
  {
   "cell_type": "markdown",
   "metadata": {},
   "source": [
    "## Bioproject"
   ]
  },
  {
   "cell_type": "markdown",
   "metadata": {},
   "source": [
    "## PATRIC"
   ]
  },
  {
   "cell_type": "markdown",
   "metadata": {},
   "source": [
    "The PATRIC database showed to be more homogenous. PATRIC data can be downloaded in a `.csv` format, which makes it easier to analyze. PATRIC data can be found in this repository."
   ]
  },
  {
   "cell_type": "code",
   "execution_count": null,
   "metadata": {},
   "outputs": [],
   "source": [
    "head PATRIC_genome.csv"
   ]
  },
  {
   "cell_type": "markdown",
   "metadata": {},
   "source": [
    "To count how many institutions have uploaded information to the PATRIC database, we used the `grep` command."
   ]
  },
  {
   "cell_type": "code",
   "execution_count": null,
   "metadata": {},
   "outputs": [],
   "source": [
    "grep -c \"Universidad Nacional Mayor de San Marcos\" PATRIC_genome.csv"
   ]
  },
  {
   "cell_type": "markdown",
   "metadata": {},
   "source": [
    "To extract all organisms uploaded in the PATRIC database, we used an `awk` command:"
   ]
  },
  {
   "cell_type": "code",
   "execution_count": null,
   "metadata": {},
   "outputs": [],
   "source": [
    "cat PATRIC_genome.csv | cut -f2 -d , | awk '{print $1,$2}' | sort | uniq -c"
   ]
  },
  {
   "cell_type": "markdown",
   "metadata": {},
   "source": [
    "To extract all organisms per institution, I had to download the `csvgrep` package.\n",
    "\n",
    "**05/2020**: I'm unsure if I can download that package to this enviroment. I'll try this in the future."
   ]
  },
  {
   "cell_type": "code",
   "execution_count": null,
   "metadata": {},
   "outputs": [],
   "source": [
    "csvgrep -c 22 -m \"Instituto Nacional de Salud\" PATRIC_genome.csv | cut -f2 -d , | awk '{print $1,$2}' | sort | uniq -c"
   ]
  }
 ],
 "metadata": {
  "kernelspec": {
   "display_name": "Python 3",
   "language": "python",
   "name": "python3"
  },
  "language_info": {
   "codemirror_mode": {
    "name": "ipython",
    "version": 3
   },
   "file_extension": ".py",
   "mimetype": "text/x-python",
   "name": "python",
   "nbconvert_exporter": "python",
   "pygments_lexer": "ipython3",
   "version": "3.7.6"
  }
 },
 "nbformat": 4,
 "nbformat_minor": 4
}
